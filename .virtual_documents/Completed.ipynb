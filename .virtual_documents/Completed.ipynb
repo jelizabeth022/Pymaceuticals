


# Dependencies and Setup
import matplotlib.pyplot as plt
import pandas as pd
import scipy.stats as st

# Study data files
mouse_metadata_path = "data/Mouse_metadata.csv"
study_results_path = "data/Study_results.csv"

# Read the mouse data and the study results
mouse_metadata = pd.read_csv(mouse_metadata_path)
study_results = pd.read_csv(study_results_path)

# Combine the data into a single DataFrame
combined_data = pd.merge(study_results, mouse_metadata, on="Mouse ID")

# Display the data table for preview
combined_data.head()


# Checking the number of mice.
number_of_mice = combined_data["Mouse ID"].nunique() 

print(f"Number of unique mice: {number_of_mice}")


# Our data should be uniquely identified by Mouse ID and Timepoint
# Get the duplicate mice by ID number that shows up for Mouse ID and Timepoint.
duplicate_mice = combined_data.loc[combined_data.duplicated(subset=['Mouse ID', 'Timepoint',]),'Mouse ID'].unique()
duplicate_mice


# Optional: Get all the data for the duplicate mouse ID.
dup_mice_df = combined_data.loc[combined_data["Mouse ID"] == "g989", :]
dup_mice_df


# Create a clean DataFrame by dropping the duplicate mouse by its ID.
new_df = combined_data[combined_data['Mouse ID'].isin(duplicate_mice)==False]
new_df.head()


# Checking the number of mice in the clean DataFrame.
new_mice_df = new_df["Mouse ID"].value_counts()
new_mice_number = len(new_mice_df)
new_mice_number





# Generate a summary statistics table of mean, median, variance, standard deviation, and SEM of the tumor volume for each regimen
# Group the data by Drug Regimen 
regimen_groups = combined_data.groupby("Drug Regimen")["Tumor Volume (mm3)"] 

# Calculate the mean 
mean_tumor_volume = regimen_groups.mean() 

# Calculate the median 
median_tumor_volume = regimen_groups.median() 

# Calculate the variance 
variance_tumor_volume = regimen_groups.var() 

# Calculate the standard deviation 
std_tumor_volume = regimen_groups.std() 

# Calculate the standard error of the mean (SEM) 
sem_tumor_volume = regimen_groups.sem()

# Use groupby and summary statistical methods to calculate the following properties of each drug regimen:
# mean, median, variance, standard deviation, and SEM of the tumor volume.
# Assemble the resulting series into a single summary DataFrame.
summary_statistics = pd.DataFrame({ 
    "Mean Tumor Volume": mean_tumor_volume, 
    "Median Tumor Volume": median_tumor_volume, 
    "Tumor Volume Variance": variance_tumor_volume, 
    "Tumor Volume Std. Dev.": std_tumor_volume, 
    "Tumor Volume Std. Err.": sem_tumor_volume 
})

# Display the summary statistics
summary_statistics


# A more advanced method to generate a summary statistics table of mean, median, variance, standard deviation,
# and SEM of the tumor volume for each regimen (only one method is required in the solution)

# Using the aggregation method, produce the same summary statistics in a single line
summary_statistics_advanced = combined_data.groupby("Drug Regimen")["Tumor Volume (mm3)"].agg([ 
    ("Mean Tumor Volume", "mean"), 
    ("Median Tumor Volume", "median"), 
    ("Tumor Volume Variance", "var"), 
    ("Tumor Volume Std. Dev.", "std"), 
    ("Tumor Volume Std. Err.", "sem") ]) 

# Display the summary statistics 
summary_statistics_advanced





# Generate a bar plot showing the total number of rows (Mouse ID/Timepoints) for each drug regimen using Pandas.
mice_count = new_df["Drug Regimen"].value_counts()

plot_pandas = mice_count.plot.bar(color='tab:blue')

plt.xlabel("Drug Regimen")
plt.ylabel("# of Observed Mouse Timepoints")

plt.show()



# Generate a bar plot showing the total number of rows (Mouse ID/Timepoints) for each drug regimen using pyplot.
x_axis = mice_count.index.values
y_axis = mice_count.values

plt.bar(x_axis, y_axis, color='tab:blue', alpha=0.8, align='center')

plt.xlabel("Drug Regimen")
plt.ylabel("# of Observed Mice Timeplots")
plt.xticks(rotation="vertical")

plt.show()


# Generate a pie chart, using Pandas, showing the distribution of unique female versus male mice used in the study
gender_data = new_df["Sex"].value_counts()

# Get the unique mice with their gender
gender_data.plot.pie(autopct= "%1.1f%%")

# Make the pie chart
plt.title("Female vs. Male Mice")
plt.show()


# Generate a pie chart, using pyplot, showing the distribution of unique female versus male mice used in the study
labels = ['Female', 'Male']
sizes = [49.6999197, 50.390803]

# Get the unique mice with their gender
plot = gender_data.plot.pie(y='Total Count', autopct="%1.1f%%")

# Make the pie chart
plt.ylabel('Sex')
plt.title("Female vs. Male Mice")
plt.show()





# Calculate the final tumor volume of each mouse across four of the treatment regimens:
# Capomulin, Ramicane, Infubinol, and Ceftamin

# Start by getting the last (greatest) timepoint for each mouse
by_mouse = combined_data.groupby(["Mouse ID"]).max()
by_mouse_reset = by_mouse.reset_index()

# Merge this group df with the original DataFrame to get the tumor volume at the last timepoint
merged_data = by_mouse_reset[['Mouse ID','Timepoint']].\
    merge(combined_data,on=['Mouse ID','Timepoint'],how="left")

def get_outliers(regimen):
    regimen_data = merged_data.loc[merged_data["Drug Regimen"] == regimen]['Tumor Volume (mm3)']
    
    quartiles = regimen_data.quantile([.25,.5,.75])
    lower_qtr = quartiles[0.25]
    upper_qtr = quartiles[0.75]
    iqr = upper_qtr - lower_qtr
    lower_bound = lower_qtr - (1.5 * iqr)
    upper_bound = upper_qtr + (1.5 * iqr)

    outliers = regimen_data.loc[(regimen_data < lower_bound) | (regimen_data > upper_bound)]
    print(f"{regimen}'s potential outliers:{outliers}")
    return regimen_data
    
cap = get_outliers("Capomulin")
ram = get_outliers("Ramicane")
inf = get_outliers("Infubinol")
ceft = get_outliers("Ceftamin")


# Put treatments into a list for for loop (and later for plot labels)

# Create empty list to fill with tumor vol data (for plotting)

# Calculate the IQR and quantitatively determine if there are any potential outliers.
    
# Locate the rows which contain mice on each drug and get the tumor volumes


    # add subset


    # Determine outliers using upper and lower bounds
drug_list = ["Capomulin", "Ramicane", "Infubinol", "Ceftamin"]
drugs = combined_data[combined_data["Drug Regimen"].isin(drug_list)]
    
    
last_timepoint = drugs.groupby(["Drug Regimen", "Mouse ID"]).agg(tumor_size=("Tumor Volume (mm3)", lambda x: x.iloc[-1]))

last_timepoint = last_timepoint.stack(level=0).unstack(level=0)
    
treatment = 0
for drug in drug_list:
    quartiles = last_timepoint[drug].quantile([.25,.5,.75]).round(2)
    lowerq = quartiles[0.25].round(2)
    upperq = quartiles[0.75].round(2)
    iqr = round(upperq-lowerq,2)
    lower_bound = round(lowerq - (1.5*iqr),2)
    upper_bound = round(upperq + (1.5*iqr),2)


    if treatment == 0:
        print(f"------------------------------------------------------------")
    print(f"The lower quartile of {drug} treatments is: {lowerq}")
    print(f"The upper quartile of {drug} treatments is: {upperq}")
    print(f"The interquartile range of {drug} treatments is: {iqr}")
    print(f"Values below {lower_bound} could be {drug} outliers.")
    print(f"Values above {upper_bound} could be {drug} outliers.")
    print(f"------------------------------------------------------------")
    treatment+=1
    


# Generate a box plot that shows the distribution of the tumor volume for each treatment group.
red_dot = dict(markerfacecolor = "red", markersize=10)
plt.boxplot([cap, ram, inf, ceft],labels=['Capomulin','Ramicane','Infubinol','Ceftamin'],flierprops= red_dot)
plt.ylabel('Final Tumor Volume (mm3)')
plt.title('Tumor Volume at Selected Mouse')


plt.show()





# Generate a line plot of tumor volume vs. time point for a single mouse treated with Capomulin
Capomulin_df = new_df.loc[new_df["Drug Regimen"] == "Capomulin",:]

forline_df = Capomulin_df.loc[Capomulin_df["Mouse ID"] == "l509",:]
forline_df.head()
x_axis = forline_df["Timepoint"]
tumsiz = forline_df["Tumor Volume (mm3)"]

fig1, ax1 = plt.subplots()
plt.title('Capomulin treatmeant of mouse l509')
plt.plot(x_axis, tumsiz,linewidth=2,color="royalblue", label="Fahreneit")
plt.xlabel('Timepoint (days)')
plt.ylabel('Tumor Volume (mm3)')
plt.show()



# Generate a scatter plot of mouse weight vs. the average observed tumor volume for the entire Capomulin regimen
# Step 1: Filter the data for the Capomulin regimen
capomulin_data = combined_data[combined_data['Drug Regimen'] == 'Capomulin']

# Step 2: Calculate the average tumor volume for each mouse
average_tumor_volume = capomulin_data.groupby('Mouse ID').agg({'Weight (g)': 'mean', 'Tumor Volume (mm3)': 'mean'}).reset_index()

# Step 3: Create the scatter plot
plt.figure(figsize=(10, 6))
plt.scatter(average_tumor_volume['Weight (g)'], average_tumor_volume['Tumor Volume (mm3)'], color='blue', alpha=0.5)
plt.title('Mouse Weight vs. Average Tumor Volume for Capomulin Regimen')
plt.xlabel('Weight (g)')
plt.ylabel('Average Tumor Volume (mm3)')
plt.show()





# Calculate the correlation coefficient and a linear regression model
# for mouse weight and average observed tumor volume for the entire Capomulin regimen

import numpy as np
import matplotlib.pyplot as plt
from sklearn.linear_model import LinearRegression

# Step 1: Filter the data for the Capomulin regimen
capomulin_data = combined_data[combined_data['Drug Regimen'] == 'Capomulin']

# Step 2: Calculate the average tumor volume for each mouse
average_tumor_volume = capomulin_data.groupby('Mouse ID').agg({'Weight (g)': 'mean', 'Tumor Volume (mm3)': 'mean'}).reset_index()

# Step 3: Calculate the correlation coefficient
correlation = average_tumor_volume['Weight (g)'].corr(average_tumor_volume['Tumor Volume (mm3)'])
print(f'Correlation coefficient: {correlation}')

# Step 4: Fit a linear regression model
X = average_tumor_volume['Weight (g)'].values.reshape(-1, 1)  # Reshape for sklearn
y = average_tumor_volume['Tumor Volume (mm3)'].values

model = LinearRegression()
model.fit(X, y)

# Step 5: Make predictions
predictions = model.predict(X)

# Step 6: Create the scatter plot with the regression line
plt.figure(figsize=(10, 6))
plt.scatter(average_tumor_volume['Weight (g)'], average_tumor_volume['Tumor Volume (mm3)'], color='blue', alpha=0.5)
plt.plot(average_tumor_volume['Weight (g)'], predictions, color='red', linewidth=2)
plt.title('Mouse Weight vs. Average Tumor Volume for Capomulin Regimen')
plt.xlabel('Weight (g)')
plt.ylabel('Average Tumor Volume (mm3)')
plt.show()



